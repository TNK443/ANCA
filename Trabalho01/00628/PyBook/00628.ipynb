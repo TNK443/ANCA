{
  "nbformat": 4,
  "nbformat_minor": 0,
  "metadata": {
    "colab": {
      "name": "00628.ipynb",
      "provenance": [],
      "collapsed_sections": [
        "eTNVeuo48DEU"
      ],
      "authorship_tag": "ABX9TyMKbMnfP9TwBxWP7sGqz2Z5",
      "include_colab_link": true
    },
    "kernelspec": {
      "name": "python3",
      "display_name": "Python 3"
    },
    "language_info": {
      "name": "python"
    }
  },
  "cells": [
    {
      "cell_type": "markdown",
      "metadata": {
        "id": "view-in-github",
        "colab_type": "text"
      },
      "source": [
        "<a href=\"https://colab.research.google.com/github/TNK443/AnCA/blob/main/Trabalho01/00628/PyBook/00628.ipynb\" target=\"_parent\"><img src=\"https://colab.research.google.com/assets/colab-badge.svg\" alt=\"Open In Colab\"/></a>"
      ]
    },
    {
      "cell_type": "markdown",
      "metadata": {
        "id": "59qfIJAN7y_x"
      },
      "source": [
        "### **DESCRIÇÃO - PASSWORD**"
      ]
    },
    {
      "cell_type": "code",
      "metadata": {
        "id": "BxvrkZ693hFx"
      },
      "source": [
        "# ============================================================\n",
        "#                           PASSWORD\n",
        "# ============================================================\n",
        "# Tendo várias contas em vários servidores, é preciso lembrar muitas senhas.\n",
        "# Você pode imaginar uma situação em que alguém se esquece de um deles.\n",
        "# Ele / ela lembra apenas que consistia em palavras x, y e z e também dois dígitos: um no início e outro no final da senha.\n",
        "#\n",
        "# Sua tarefa é escrever um programa que irá gerar todas as senhas possíveis com base em um dicionário e um conjunto de regras.\n",
        "# Para o exemplo dado acima, o dicionário contém três palavras: \n",
        "# x, y, z, e a regra é dada como '0#0' o que significa <dígito><palavra_do_dicionário><dígito>.\n",
        "#\n",
        "# ==========\n",
        "#   INPUT\n",
        "# ==========\n",
        "# A primeira linha contém o número de palavras do dicionário (n).\n",
        "# As próprias palavras são fornecidas em n linhas consecutivas.\n",
        "# A próxima linha contém o número de regras (m).\n",
        "# Da mesma forma, m linhas consecutivas contêm regras.\n",
        "# Cada regra consiste nos caracteres '#' e '0' dados em ordem arbitrária.\n",
        "# O caractere '#' representa um prefácio do dicionário, enquanto o caractere '0' representa um dígito.\n",
        "# \n",
        "# Os dados de entrada podem conter muitos conjuntos de dicionários com regras anexadas a eles.\n",
        "# \n",
        "# ==========\n",
        "# OUTPUT\n",
        "# ==========\n",
        "# Para cada conjunto 'dicionário + regras', você deve imprimir dois hifens seguidos por uma quebra de linha \n",
        "# e todas as senhas correspondentes fornecidas em linhas consecutivas.\n",
        "# As senhas devem ser classificadas por regras, o que significa que primeiro todas as senhas que correspondem à primeira regra\n",
        "# e todas as palavras devem ser fornecidas, seguidas das senhas que correspondem à segunda regra e todas as palavras, etc.\n",
        "# Dentro do conjunto de senhas que correspondem a uma palavra e uma regra, uma ordem de dígitos ascendente deve ser preservado.\n",
        "# \n",
        "# Premissas: um número de palavras no dicionário é maior que 0 e menor ou igual a 100 (0 <n <= 100).\n",
        "# O comprimento da palavra é maior que 0 e menor que 256.\n",
        "# Uma palavra pode conter os caracteres 'A' .. 'Z', 'a' .. 'z', '0' .. '9'.\n",
        "# Algumas regras são menores que 1000, e uma regra tem menos de 256 caracteres.\n",
        "# \n",
        "# Um caractere '0' pode ocorrer na regra no máximo 7 vezes, mas deve ocorrer pelo menos uma vez.\n",
        "# O caractere '#' não é obrigatório, o que significa que podem existir esses caracteres na regra ou não.\n",
        "# \n",
        "# ============================================================"
      ],
      "execution_count": null,
      "outputs": []
    },
    {
      "cell_type": "markdown",
      "metadata": {
        "id": "K8AfAzcy77aB"
      },
      "source": [
        "### **CODIGO**"
      ]
    },
    {
      "cell_type": "code",
      "metadata": {
        "colab": {
          "base_uri": "https://localhost:8080/"
        },
        "id": "NgLj6UTNUT3L",
        "outputId": "cfcf81d5-5975-4883-cd46-c0d8279e1f13"
      },
      "source": [
        "def exec_input(listaRules, output, pos):\n",
        "    if (pos == len(listaRules)):\n",
        "      print(output, end='\\n')\n",
        "      return\n",
        "    \n",
        "    if (listaRules[pos]=='#'):\n",
        "      for i in range(len(listWords)):\n",
        "          exec_input(listaRules, output+listWords[i], pos+1)\n",
        "    elif (listaRules[pos]=='0'):\n",
        "      for i in range(10):\n",
        "          exec_input(listaRules, output+(f'{i}'), pos+1)\n",
        "\n",
        "if __name__ == '__main__':\n",
        "   try:\n",
        "    # INPUT\n",
        "\n",
        "    while True:\n",
        "        # First line contains a number of words in the dictionary (n).\n",
        "        nWords = ''\n",
        "        nWords = input()\n",
        "        if (nWords == 100) or (nWords == ''): break\n",
        "        nWords = int(nWords)\n",
        "\n",
        "        # The words themselves are given in (n) consecutive lines.\n",
        "        listWords = []\n",
        "        for n in range(nWords):\n",
        "            auxImput = input()\n",
        "            listWords.append(auxImput)\n",
        "        \n",
        "        # The next line contains number of rules (m).\n",
        "        mRules = int(input())\n",
        "\n",
        "        print('--', end='\\n')\n",
        "\n",
        "        # Similarly consecutivemlines containrules.\n",
        "        for m in range(mRules):\n",
        "            listRules = input()\n",
        "            exec_input(listRules,'',0)\n",
        "        \n",
        "   except EOFError:\n",
        "    pass\n",
        "\n",
        "   finally:\n",
        "    exit(0)\n",
        "\n",
        "   exit(0)"
      ],
      "execution_count": 1,
      "outputs": [
        {
          "output_type": "stream",
          "text": [
            "2\n",
            "AA\n",
            "BB\n",
            "1\n",
            "--\n",
            "#0#\n",
            "AA0AA\n",
            "AA0BB\n",
            "AA1AA\n",
            "AA1BB\n",
            "AA2AA\n",
            "AA2BB\n",
            "AA3AA\n",
            "AA3BB\n",
            "AA4AA\n",
            "AA4BB\n",
            "AA5AA\n",
            "AA5BB\n",
            "AA6AA\n",
            "AA6BB\n",
            "AA7AA\n",
            "AA7BB\n",
            "AA8AA\n",
            "AA8BB\n",
            "AA9AA\n",
            "AA9BB\n",
            "BB0AA\n",
            "BB0BB\n",
            "BB1AA\n",
            "BB1BB\n",
            "BB2AA\n",
            "BB2BB\n",
            "BB3AA\n",
            "BB3BB\n",
            "BB4AA\n",
            "BB4BB\n",
            "BB5AA\n",
            "BB5BB\n",
            "BB6AA\n",
            "BB6BB\n",
            "BB7AA\n",
            "BB7BB\n",
            "BB8AA\n",
            "BB8BB\n",
            "BB9AA\n",
            "BB9BB\n",
            "\n"
          ],
          "name": "stdout"
        }
      ]
    },
    {
      "cell_type": "markdown",
      "metadata": {
        "id": "cQTX9d-V7_BZ"
      },
      "source": [
        "### **TESTES**"
      ]
    },
    {
      "cell_type": "code",
      "metadata": {
        "id": "I_sj-4MO6Xk0"
      },
      "source": [
        "# ===== Tentativa de construção de código sem recursão para uma melhor analise na complexidade.\n",
        "def read_input():\n",
        "    # INPUT\n",
        "    listInput=[]\n",
        "\n",
        "    while True:\n",
        "      try:\n",
        "        # First line contains a number of words in the dictionary (n).\n",
        "        nWords = int(input())\n",
        "\n",
        "        # The words themselves are given in (n) consecutive lines.\n",
        "        listWords = []\n",
        "        for n in range(nWords):\n",
        "            auxImput = input()\n",
        "            listWords.append(auxImput)\n",
        "        \n",
        "        # The next line contains number of rules (m).\n",
        "        mRules = int(input())\n",
        "\n",
        "        # Similarly consecutivemlines containrules.\n",
        "        listRules = []\n",
        "        for m in range(mRules):\n",
        "            auxImput = input()\n",
        "            listRules.append(list(auxImput))\n",
        "        \n",
        "        listInput.append([nWords, listWords, mRules, listRules])\n",
        "      \n",
        "      except EOFError:\n",
        "        break\n",
        "      \n",
        "      finally:\n",
        "        return (listInput)\n",
        "      return (listInput)\n",
        "\n",
        "def exec_input(listInput):\n",
        "    for pswd in listInput:\n",
        "        print('--')\n",
        "\n",
        "        \n",
        "# if __name__ == '__main__':\n",
        "#     try:\n",
        "#       listInput = read_input()\n",
        "#       exec_input(listInput)\n",
        "\n",
        "#     except EOFError:\n",
        "#       pass\n",
        "\n",
        "#     finally:\n",
        "#       exit(0)\n",
        "\n",
        "#     exit(0)"
      ],
      "execution_count": null,
      "outputs": []
    },
    {
      "cell_type": "code",
      "metadata": {
        "colab": {
          "base_uri": "https://localhost:8080/"
        },
        "id": "Ja2V9yWL7_ve",
        "outputId": "0b625db6-6a16-4ab1-de23-f99baee073fc"
      },
      "source": [
        "for pswd in BASE_TCases[1]:\n",
        "    print('--')\n",
        "    for i in range(len(pswd[3])): \n",
        "        print(pswd[3][i])\n",
        "        # qtdPSW = (10**pswd[3][i].count('0'))*(pswd[0]**pswd[3][i].count('#'))\n",
        "        # print(qtdPSW)\n",
        "        # print(pswd[3][i].count('#') + (pswd[3][i].count('0')*10) )\n",
        "    # print(pswd)"
      ],
      "execution_count": null,
      "outputs": [
        {
          "output_type": "stream",
          "text": [
            "--\n",
            "#0\n",
            "--\n",
            "#0\n",
            "0#0\n",
            "--\n",
            "0#00\n"
          ],
          "name": "stdout"
        }
      ]
    },
    {
      "cell_type": "code",
      "metadata": {
        "colab": {
          "base_uri": "https://localhost:8080/"
        },
        "id": "2KcnHu5dcAed",
        "outputId": "9faa716f-61cc-4e78-e690-fc3d2d55fcc6"
      },
      "source": [
        "def combina(a,b):\n",
        "  aux=[]\n",
        "  if (b=='.'):\n",
        "    for i in range(10):\n",
        "      aux.append(a+f'{i}')\n",
        "    return aux\n",
        "  if (b=='#'):\n",
        "    for i in pswd[1]:\n",
        "      aux.append(a+i)\n",
        "    return aux\n",
        "  # else:\n",
        "  #   combina(b[0],b[1:])\n",
        "\n",
        "x='.#...#..'\n",
        "\n",
        "tam = len(x) #tamanho_da_regra\n",
        "\n",
        "for i in range(1,tam+1):\n",
        "    print(x[:tam-(i)],'|',x[tam-(i):])\n",
        "\n",
        "\n",
        "# while (x.count('.') > 0) or (x.count('#') > 0):\n",
        "# print(combina(x[:3],x[3:]))"
      ],
      "execution_count": null,
      "outputs": [
        {
          "output_type": "stream",
          "text": [
            ".#...#. | .\n",
            ".#...# | ..\n",
            ".#... | #..\n",
            ".#.. | .#..\n",
            ".#. | ..#..\n",
            ".# | ...#..\n",
            ". | #...#..\n",
            " | .#...#..\n"
          ],
          "name": "stdout"
        }
      ]
    },
    {
      "cell_type": "code",
      "metadata": {
        "colab": {
          "base_uri": "https://localhost:8080/"
        },
        "id": "ky3LrUpbquXQ",
        "outputId": "c3ffa1ce-4de3-4ecd-8d80-2cd916a5659a"
      },
      "source": [
        "def listconc(numList):\n",
        "    if len(numList) == 2:\n",
        "        return numList[0]\n",
        "    else:\n",
        "        return numList[0] + listconc(numList[1:])\n",
        "\n",
        "print(listconc(['.','#','.','.','#']))"
      ],
      "execution_count": null,
      "outputs": [
        {
          "output_type": "stream",
          "text": [
            ".#..#\n"
          ],
          "name": "stdout"
        }
      ]
    },
    {
      "cell_type": "code",
      "metadata": {
        "id": "wSicCQm-sojH"
      },
      "source": [
        "def combina(a,b):\n",
        "  aux=[]\n",
        "  if (a=='.'):\n",
        "    for i in range(10):\n",
        "      aux.append(a+f'{i}')\n",
        "    return aux\n",
        "  if (a=='#'):\n",
        "    for i in pswd[1]:\n",
        "      aux.append(a+i)\n",
        "    return aux"
      ],
      "execution_count": null,
      "outputs": []
    },
    {
      "cell_type": "code",
      "metadata": {
        "colab": {
          "base_uri": "https://localhost:8080/"
        },
        "id": "_aC_2rLOrQCy",
        "outputId": "ec03cebe-5d49-483a-bbb8-9cee7a700aa3"
      },
      "source": [
        "x=['.#.']\n",
        "# x = ['0..#.', '1..#.', '2..#.', '3..#.', '4..#.', '5..#.', '6..#.', '7..#.', '8..#.', '9..#.']\n",
        "\n",
        "# if x[0].find('#') > x[0].find('.'):\n",
        "#    pos = x[0].find('#')\n",
        "# else: pos = x[0].find('.')\n",
        "\n",
        "pos=0\n",
        "\n",
        "while True:\n",
        "  aux=[]\n",
        "\n",
        "  pos1 = x[0].find('.')\n",
        "  pos2 = x[0].find('#')\n",
        "  \n",
        "  pos = pos1\n",
        "  if (pos2 < pos) and (pos2 > -1):\n",
        "      pos = pos2\n",
        "\n",
        "  # if (pos1 < pos2) and (pos1 > -1):\n",
        "  #   pos = pos1\n",
        "  # elif (pos2 < pos1) and (pos2 > -1):\n",
        "  #   pos = pos2\n",
        "  # else: break\n",
        "\n",
        "  print(pos)\n",
        "  for i in range(len(x)):\n",
        "      part1 = x[i][:pos]\n",
        "      part2 = x[i][pos:pos+1]\n",
        "      part3 = x[i][pos+1:]\n",
        "    \n",
        "      if (part2=='.'):\n",
        "          for j in range(10):\n",
        "              aux.append(part1+f'{j}'+part3)\n",
        "      if (part2=='#'):\n",
        "          for i in pswd[1]:\n",
        "              aux.append(part1+i+part3)\n",
        "  x=[]\n",
        "  x = aux\n",
        "  \n",
        "  # if x[0].find('#') > x[0].find('.'):\n",
        "  #   pos = x[0].find('#')\n",
        "  # else: pos = x[0].find('.')\n",
        "  # pos+=1\n",
        "\n",
        "  print(x)\n",
        "  if (x[0].find('#') < 0) and (x[0].find('.') < 0): break"
      ],
      "execution_count": null,
      "outputs": [
        {
          "output_type": "stream",
          "text": [
            "0\n",
            "['0#.', '1#.', '2#.', '3#.', '4#.', '5#.', '6#.', '7#.', '8#.', '9#.']\n",
            "1\n",
            "['0admin.', '0bdmin.', '011.', '022.', '1admin.', '1bdmin.', '111.', '122.', '2admin.', '2bdmin.', '211.', '222.', '3admin.', '3bdmin.', '311.', '322.', '4admin.', '4bdmin.', '411.', '422.', '5admin.', '5bdmin.', '511.', '522.', '6admin.', '6bdmin.', '611.', '622.', '7admin.', '7bdmin.', '711.', '722.', '8admin.', '8bdmin.', '811.', '822.', '9admin.', '9bdmin.', '911.', '922.']\n",
            "6\n",
            "['0admin0', '0admin1', '0admin2', '0admin3', '0admin4', '0admin5', '0admin6', '0admin7', '0admin8', '0admin9', '0bdmin0', '0bdmin1', '0bdmin2', '0bdmin3', '0bdmin4', '0bdmin5', '0bdmin6', '0bdmin7', '0bdmin8', '0bdmin9', '1admin0', '1admin1', '1admin2', '1admin3', '1admin4', '1admin5', '1admin6', '1admin7', '1admin8', '1admin9', '1bdmin0', '1bdmin1', '1bdmin2', '1bdmin3', '1bdmin4', '1bdmin5', '1bdmin6', '1bdmin7', '1bdmin8', '1bdmin9', '2admin0', '2admin1', '2admin2', '2admin3', '2admin4', '2admin5', '2admin6', '2admin7', '2admin8', '2admin9', '2bdmin0', '2bdmin1', '2bdmin2', '2bdmin3', '2bdmin4', '2bdmin5', '2bdmin6', '2bdmin7', '2bdmin8', '2bdmin9', '3admin0', '3admin1', '3admin2', '3admin3', '3admin4', '3admin5', '3admin6', '3admin7', '3admin8', '3admin9', '3bdmin0', '3bdmin1', '3bdmin2', '3bdmin3', '3bdmin4', '3bdmin5', '3bdmin6', '3bdmin7', '3bdmin8', '3bdmin9', '4admin0', '4admin1', '4admin2', '4admin3', '4admin4', '4admin5', '4admin6', '4admin7', '4admin8', '4admin9', '4bdmin0', '4bdmin1', '4bdmin2', '4bdmin3', '4bdmin4', '4bdmin5', '4bdmin6', '4bdmin7', '4bdmin8', '4bdmin9', '5admin0', '5admin1', '5admin2', '5admin3', '5admin4', '5admin5', '5admin6', '5admin7', '5admin8', '5admin9', '5bdmin0', '5bdmin1', '5bdmin2', '5bdmin3', '5bdmin4', '5bdmin5', '5bdmin6', '5bdmin7', '5bdmin8', '5bdmin9', '6admin0', '6admin1', '6admin2', '6admin3', '6admin4', '6admin5', '6admin6', '6admin7', '6admin8', '6admin9', '6bdmin0', '6bdmin1', '6bdmin2', '6bdmin3', '6bdmin4', '6bdmin5', '6bdmin6', '6bdmin7', '6bdmin8', '6bdmin9', '7admin0', '7admin1', '7admin2', '7admin3', '7admin4', '7admin5', '7admin6', '7admin7', '7admin8', '7admin9', '7bdmin0', '7bdmin1', '7bdmin2', '7bdmin3', '7bdmin4', '7bdmin5', '7bdmin6', '7bdmin7', '7bdmin8', '7bdmin9', '8admin0', '8admin1', '8admin2', '8admin3', '8admin4', '8admin5', '8admin6', '8admin7', '8admin8', '8admin9', '8bdmin0', '8bdmin1', '8bdmin2', '8bdmin3', '8bdmin4', '8bdmin5', '8bdmin6', '8bdmin7', '8bdmin8', '8bdmin9', '9admin0', '9admin1', '9admin2', '9admin3', '9admin4', '9admin5', '9admin6', '9admin7', '9admin8', '9admin9', '9bdmin0', '9bdmin1', '9bdmin2', '9bdmin3', '9bdmin4', '9bdmin5', '9bdmin6', '9bdmin7', '9bdmin8', '9bdmin9']\n"
          ],
          "name": "stdout"
        }
      ]
    },
    {
      "cell_type": "code",
      "metadata": {
        "colab": {
          "base_uri": "https://localhost:8080/"
        },
        "id": "xGr_vht4_nZu",
        "outputId": "a6ad0584-a99f-407f-da31-f5a13867ece8"
      },
      "source": [
        "for i in pswd:\n",
        "  print(i)"
      ],
      "execution_count": null,
      "outputs": [
        {
          "output_type": "stream",
          "text": [
            "4\n",
            "['admin', 'bdmin', '11', '22']\n",
            "2\n",
            "['#0', '0#0']\n"
          ],
          "name": "stdout"
        }
      ]
    },
    {
      "cell_type": "code",
      "metadata": {
        "colab": {
          "base_uri": "https://localhost:8080/"
        },
        "id": "tK_Hy1AGSFs7",
        "outputId": "06f7e36d-a45c-45c6-b422-907dfcac8a2c"
      },
      "source": [
        "pswd = BASE_TCases[1][1]\n",
        "print(pswd)"
      ],
      "execution_count": null,
      "outputs": [
        {
          "output_type": "stream",
          "text": [
            "[4, ['admin', 'bdmin', '11', '22'], 2, ['#0', '0#0']]\n"
          ],
          "name": "stdout"
        }
      ]
    },
    {
      "cell_type": "markdown",
      "metadata": {
        "id": "eTNVeuo48DEU"
      },
      "source": [
        "### **BASES DE TESTE**"
      ]
    },
    {
      "cell_type": "code",
      "metadata": {
        "id": "6h855rdE8DnE"
      },
      "source": [
        "# ============================== BASE DE TESTE ==============================\n",
        "BASE_TCases=[]\n",
        "# ---------------------------------------------------------------------------\n",
        "listInput=[]\n",
        "nWords=2\n",
        "listWords=[]\n",
        "listWords.append('root')\n",
        "listWords.append('2super')\n",
        "mRules=1\n",
        "listRules=[]\n",
        "listRules.append(list('#0'))\n",
        "listInput.append([nWords, listWords, mRules, listRules])\n",
        "\n",
        "nWords=1\n",
        "listWords=[]\n",
        "listWords.append('admin')\n",
        "mRules=1\n",
        "listRules=[]\n",
        "listRules.append(list('#0#'))\n",
        "listInput.append([nWords, listWords, mRules, listRules])\n",
        "\n",
        "BASE_TCases.append(listInput)\n",
        "# ---------------------------------------------------------------------------\n",
        "listInput=[]\n",
        "nWords=3\n",
        "listWords=[]\n",
        "listWords.append('root')\n",
        "listWords.append('2super')\n",
        "listWords.append('rootrootrootroot')\n",
        "mRules=1\n",
        "listRules=[]\n",
        "listRules.append('#0')\n",
        "listInput.append([nWords, listWords, mRules, listRules])\n",
        "\n",
        "nWords=4\n",
        "listWords=[]\n",
        "listWords.append('admin')\n",
        "listWords.append('bdmin')\n",
        "listWords.append('11')\n",
        "listWords.append('22')\n",
        "mRules=2\n",
        "listRules=[]\n",
        "listRules.append('#0')\n",
        "listRules.append('0#0')\n",
        "listInput.append([nWords, listWords, mRules, listRules])\n",
        "\n",
        "nWords=5\n",
        "listWords=[]\n",
        "listWords.append('1E')\n",
        "listWords.append('2D')\n",
        "listWords.append('5A')\n",
        "listWords.append('3B')\n",
        "listWords.append('4C')\n",
        "mRules=1\n",
        "listRules=[]\n",
        "listRules.append('0#00')\n",
        "listInput.append([nWords, listWords, mRules, listRules])\n",
        "\n",
        "BASE_TCases.append(listInput)\n",
        "# ---------------------------------------------------------------------------\n",
        "listInput=[]\n",
        "nWords=4\n",
        "listWords=[]\n",
        "listWords.append('admin')\n",
        "listWords.append('bdmin')\n",
        "listWords.append('11')\n",
        "listWords.append('22')\n",
        "mRules=2\n",
        "listRules=[]\n",
        "listRules.append(list('#0'))\n",
        "listRules.append(list('0#0'))\n",
        "listInput.append([nWords, listWords, mRules, listRules])\n",
        "\n",
        "BASE_TCases.append(listInput)\n",
        "# ---------------------------------------------------------------------------"
      ],
      "execution_count": null,
      "outputs": []
    }
  ]
}