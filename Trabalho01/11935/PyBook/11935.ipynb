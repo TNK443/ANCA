{
  "nbformat": 4,
  "nbformat_minor": 0,
  "metadata": {
    "colab": {
      "name": "11935.ipynb",
      "provenance": [],
      "collapsed_sections": [
        "H-bj0hzC16aI",
        "XlrRhGHEreSV",
        "FA_owDvtrgoD",
        "Jdk7CrnZrj6f"
      ],
      "authorship_tag": "ABX9TyMrkJfAav511POpSaqAM6yj",
      "include_colab_link": true
    },
    "kernelspec": {
      "name": "python3",
      "display_name": "Python 3"
    },
    "language_info": {
      "name": "python"
    }
  },
  "cells": [
    {
      "cell_type": "markdown",
      "metadata": {
        "id": "view-in-github",
        "colab_type": "text"
      },
      "source": [
        "<a href=\"https://colab.research.google.com/github/TNK443/AnCA/blob/main/Trabalho01/11935/PyBook/11935.ipynb\" target=\"_parent\"><img src=\"https://colab.research.google.com/assets/colab-badge.svg\" alt=\"Open In Colab\"/></a>"
      ]
    },
    {
      "cell_type": "markdown",
      "metadata": {
        "id": "Hd_9_1cLqlnq"
      },
      "source": [
        "___\n",
        "\n",
        "<br>\n",
        "\n",
        "## 11935 - Through the Desert\n",
        "# **Análise e Complexidade de Algoritmos**\n",
        "\n",
        "<br>\n",
        "\n",
        "___\n",
        "\n",
        "## Resposta do Trabalho 01 | 2.2 - Dividir e Conquistar: 11935\n",
        "\n",
        "<br>\n",
        "\n",
        "\n",
        "**Author: Dornélio Mori Junior**\n",
        "\n",
        "**Affil: PPComp — Campus Serra, Ifes**\n",
        "\n",
        "**Date: 2021/04**\n",
        "\n",
        "<br>\n",
        "\n",
        "___\n",
        "\n",
        "<br>\n",
        "\n",
        "### **1) Breve explicação de como a técnica indicada foi utilizada**\n",
        "Inicialmente foi feito um algorítimo de Pesquisa Completa (Busca Sequencial) para chegar ao resultado e entender melhor a geração dos resultados.\n",
        "\n",
        "Baseado na forma como os cálculos foram gerados consegui identificar uma forma de implementar com a técnica Dividir e Conquistar com o algoritmo de Pesquisa/Busca Binária.\n",
        "\n",
        "Baseado na forma como a técnica Dividir e Conquistar foi utilizada no problema anterior (10706 - Number Sequence) foi estimado um valor máximo (grande suficiente) para o resultado de menor valor possível no tanque para realizar o eventos (da mesma forma que foi informado no problema 10706, o digito da posição 2147483647).\n",
        "\n",
        "Para estimar, poderíamos simplesmente jogar um valor alto (ex.: 10^10) ou estimar algo aproximado para que reduzidíssimos o tempo (quantidade de divisões) para encontrar a solução.\n",
        "\n",
        "Com base no problema, temos o máximo de 30 (como consumo), 50 de eventos, e inicialmente 3 dígitos de deslocamento (999), mas na base de testes isso poderia chegar a quantos dígitos ele quisesse testar. Mas tomamos como base inicial esse valor 30 * 50 * 999 = 1498500, teríamos em um pior caso onde se percorre 999km com o consumo de 30L o Volume mínimo do tanque de combustível com 1.498.500L (o que é um pouco improvável). Mas assumindo que não seja restrito a esse valor, foi aumentado o deslocamento para 5 dígitos (99999) e com isso foi feito uma análise do comportamento do algoritmo para verificar se esse range era o suficiente para a nossa solução. Após teste no Judge, foi identificado que 5 dígitos eram suficientes para chegarmos na solução. Porém como foi um valor estimado por alta, foi testado valores menores para verificar um ponto (Range) menor a ser aceito pelo Judge. Após esses teste foi identificado que 10.000L (\\~9999 4 dígitos) era um valor aceitável para nossa solução máxima nesse problema. Por curiosidade, testei com dígitos maiores para verificar se o algorítimo extrapolava o tempo limite permitido. 10^8 e 10^9 (\\~9999999, \\~99999999, 4 e 5 dígitos respectivamente) foram aceitos sem nenhum problema no Judge.\n",
        "\n",
        "Com esse valor determinado (10.000L = 1e4), agora podemos fazer o processo de Dividir e Conquistar (com Busca Binária) e Simular cada Resultado (Menor Volume no Tanque para percorrer o Evento) até encontrarmos hi = lo (precisão de 4 casas decimais), e com isso sabemos qual o valor seria/será o resultado (mínimo). Por exemplo: 10^4L atende o evento? Se sim, então divide a base e o novo hi é 10^4 / 2. 10^4/2 atende o evento? etc... até encontrar o ponto em que hi = lo (precisão de 1e-4).\n",
        "\n",
        "Todos esses teste foram indicados como \"Accepted\" no Online Judge.\n",
        "\n",
        "<br>\n",
        "\n",
        "![Veredito](./11935-veredito.png)\n",
        "\n",
        "<br>\n",
        "\n",
        "### **2) Análise da complexidade de tempo do programa desenvolvido**\n",
        "O programa tem como parte da solução uma Busca Binária (onde sua complexidade padrão é de **O(log_2 n)**, mas também tem outras codificações necessárias para encontrar a solução. Sem contar o ponto importante de que definimos nossa base máxima (um range de 1e4L) para encontrarmos nosso resultado. Desta forma a Busca Binária será realizado em cima desta base de solução e sua complexidade para este algoritmo fica em **O(log_2 1e4/1e-4)**, onde 1e-4 é a precisão de casas decimais definida no problema.\n",
        "\n",
        "Analisando o restante do algoritmo foi identificado a complexidade de tempo desse programa sendo de grandeza **O(n)**.\n",
        "A complexidade completa (reduzida) foi de **T(n) = (13n * log_2(1e4/1e-4)) + (9 * log_2(1e4/1e-4)) + 9**, desconsiderando algumas operações para a leitura do input.\n",
        "\n",
        "A análise de complexidade pode ser vista abaixo.\n",
        "\n",
        "<br>\n",
        "\n",
        "![Complexidade](./11935-complexidade.png)\n",
        "\n",
        "<br>\n",
        "\n",
        "### **3) Outras informações que o autor julgar apropriadas para o entendimento do trabalho realizado**\n",
        "_[N/A]_\n",
        "\n",
        "<br>\n",
        "\n",
        "___\n"
      ]
    },
    {
      "cell_type": "markdown",
      "metadata": {
        "id": "H-bj0hzC16aI"
      },
      "source": [
        "### PROBLEMA 11935 - Through the Desert"
      ]
    },
    {
      "cell_type": "code",
      "metadata": {
        "id": "1WIb3ZhAchsW"
      },
      "source": [
        "# 11935 - Through the Desert\n",
        "# ============================================================\n",
        "#                      THROUGH THE DESERT\n",
        "# ============================================================\n",
        "# Imagine que você é um explorador tentando cruzar um deserto.\n",
        "# Muitos perigos e obstáculos estão esperando em seu caminho.\n",
        "# Sua vida depende de seu jipe ​​velho e confiável ter um tanque de combustível grande o suficiente.\n",
        "# Mas quão grande exatamente ele tem que ser?\n",
        "# Calcule o menor volume necessário para atingir sua meta do outro lado.\n",
        "#\n",
        "# Os eventos a seguir descrevem sua jornada:\n",
        "#\n",
        "# [Fuel consumption n][Consumo de combustível n]\n",
        "# significa que seu caminhão precisa de n litros de gasolina por 100km.\n",
        "# n é um número inteiro no intervalo [1..30].\n",
        "# O consumo de combustível pode mudar durante a viagem, por exemplo, ao subir ou descer uma montanha.\n",
        "#\n",
        "# [Leak][Vazamento]\n",
        "# Significa que o tanque de combustível do seu caminhão foi perfurado por um objeto pontiagudo.\n",
        "# O tanque começará a vazar gasolina a uma taxa de 1 litro de combustível por quilômetro.\n",
        "# Vários vazamentos se somam e fazem com que o caminhão perca combustível a uma velocidade mais rápida.\n",
        "#\n",
        "# No entanto, nem todos os eventos são problemáticos neste deserto. Os seguintes eventos aumentam suas chances de sobrevivência:\n",
        "#\n",
        "# [Gas sation][Postos de gasolina]\n",
        "# Você enche seu tanque.\n",
        "#\n",
        "# [Mechanic][Mecânico]\n",
        "# Corrige todos os vazamentos em seu tanque.\n",
        "#\n",
        "# E finalmente:\n",
        "#\n",
        "# [Goal][Meta]\n",
        "# Significa que você chegou com segurança ao final de sua jornada!\n",
        "#\n",
        "# \n",
        "# ==========\n",
        "#   INPUT\n",
        "# ==========\n",
        "# A entrada consiste em uma série de casos de teste.\n",
        "# Cada caso de teste consiste em no máximo 50 eventos.\n",
        "# Cada evento é descrito por um número inteiro, a distância (em quilômetros medidos desde o início)\n",
        "# onde o evento ocorre, seguida pelo tipo de evento acima.\n",
        "#\n",
        "# Em cada caso de teste, o primeiro evento é da forma '0 Consumo de combustível n', \n",
        "# e o último evento é da forma 'd Meta' (d é a distância até a meta).\n",
        "# Os eventos são dados em ordem classificada por distância não decrescente desde o início,\n",
        "# e o evento 'Meta' é sempre o último.\n",
        "#\n",
        "# Pode haver vários eventos à mesma distância - processe-os na ordem fornecida.\n",
        "#\n",
        "# A entrada é terminada por uma linha contendo '0 Consumo de combustível 0' que não deve ser processado.\n",
        "#\n",
        "# ==========\n",
        "# OUTPUT\n",
        "# ==========\n",
        "# Para cada caso de teste, imprima uma linha contendo o menor volume possível do tanque\n",
        "# (em litros, com precisão de três dígitos após a vírgula) que garantirá o sucesso da viagem. \n",
        "#\n",
        "# ============================================================"
      ],
      "execution_count": null,
      "outputs": []
    },
    {
      "cell_type": "markdown",
      "metadata": {
        "id": "XlrRhGHEreSV"
      },
      "source": [
        "###CODIGO"
      ]
    },
    {
      "cell_type": "code",
      "metadata": {
        "id": "20we3cSHTrKV"
      },
      "source": [
        "# ============================================================\n",
        "#        CODIGO COM A TECNICA DE DIVIDIR PRA CONQUISTAR\n",
        "# ============================================================\n",
        "def consigo_realizar_o_percurso(f):\n",
        "  fuel = f\n",
        "  leak = 0.0\n",
        "  consume = -1.0\n",
        "  lastD = 0.0\n",
        "\n",
        "  for j in range(len(events)):\n",
        "      evt = events[j].split()\n",
        "      if (consume > 0.0): fuel -= ((float(evt[0]) - lastD)*(consume / 100.0 + leak))\n",
        "      if (fuel < 0.0): return False\n",
        "      if (evt[1]=='Fuel'): consume = float(evt[3])\n",
        "      elif (evt[1]=='Gas'): fuel = f\n",
        "      elif (evt[1]=='Leak'): leak += 1.0\n",
        "      elif (evt[1]=='Mechanic'): leak = 0.0\n",
        "      lastD = float(evt[0])\n",
        "  return True\n",
        "  \n",
        "if __name__ == '__main__':\n",
        "  events = []\n",
        "  while True:\n",
        "    auxInput = input()\n",
        "    if (auxInput == '0 Fuel consumption 0'): break\n",
        "    events.append(auxInput)\n",
        "    if (auxInput[len(auxInput)-4:] == 'Goal'):\n",
        "      dec = 4 #1e-4 Parâmetro de precisão de casas decimais para atender ao requisito de output com precisão de 3 casas decimais.\n",
        "      hi = 1e4\n",
        "      lo, mid = 0.0,0.0\n",
        "\n",
        "      while round(abs(hi - lo),dec) > 0:\n",
        "        print(f'{w}: lo-hi {hi-lo} ||', 'abs:',abs(hi -lo),'- mid|ans:',mid,f'|| lo: {lo} - hi: {hi}')\n",
        "        mid = (lo + hi)/2.0\n",
        "        if (consigo_realizar_o_percurso(mid)): hi = mid\n",
        "        else: lo = mid\n",
        "      print(format(mid,'.3f'))\n",
        "      events = []\n",
        "  exit(0)"
      ],
      "execution_count": null,
      "outputs": []
    },
    {
      "cell_type": "code",
      "metadata": {
        "id": "AvY16kbaEEHB"
      },
      "source": [
        "# ============================================================\n",
        "#        CODIGO COM A TECNICA DE DIVIDIR PRA CONQUISTAR\n",
        "# ============================================================\n",
        "def consigo_realizar_o_percurso(f):\n",
        "  fuel = f\n",
        "  leak = 0.0\n",
        "  consume = -1.0\n",
        "  lastD = 0.0\n",
        "\n",
        "  for j in range(len(events)):\n",
        "      evt = events[j].split()\n",
        "      if (consume > 0.0): fuel -= ((float(evt[0]) - lastD)*(consume / 100.0 + leak))\n",
        "      if (fuel < 0.0): return False\n",
        "      if (evt[1]=='Fuel'): consume = float(evt[3])\n",
        "      elif (evt[1]=='Gas'): fuel = f\n",
        "      elif (evt[1]=='Leak'): leak += 1.0\n",
        "      elif (evt[1]=='Mechanic'): leak = 0.0\n",
        "      lastD = float(evt[0])\n",
        "              # Retorna V se o seu jipe pode alcançar estado objetivo com capacidade tanque de combustível 'f'. \n",
        "  return True # Retorna V informando que é possível completar o evento com 'f' de combustível.\n",
        "       \n",
        "if __name__ == '__main__':\n",
        "  events = []\n",
        "  while True:\n",
        "    auxInput = input()\n",
        "    if (auxInput == '0 Fuel consumption 0'): break\n",
        "    events.append(auxInput)\n",
        "    if (auxInput[len(auxInput)-4:] == 'Goal'):\n",
        "      # ENTRA NA PARTE DO DIVIDIR E CONQUISTAR\n",
        "      # 1e7 foi suficiente para encontrar todas as respostas dos UVa.\n",
        "      hi = 1e7 # =   10000000.0, onde temos aproximadamente 37 repetições MID ser menor que 1e-04.\n",
        "      # hi = 1e8 # =  100000000.0, onde temos aproximadamente 40 repetições MID ser menor que 1e-04.\n",
        "      # hi = 1e9 # = 1000000000.0, onde temos aproximadamente 43 repetições MID ser menor que 1e-04.\n",
        "      lo, mid = 0.0,0.0\n",
        "      # while (abs(lo + hi) > EPS):\n",
        "      for i in range(38):\n",
        "        # print('abs:',abs(lo + hi),'- mid|ans:',mid)\n",
        "        mid = (lo + hi)/2.0\n",
        "        if (consigo_realizar_o_percurso(mid)): hi = mid\n",
        "        else: lo = mid\n",
        "      print(format(mid,'.3f'))\n",
        "      events = []\n",
        "  exit(0)"
      ],
      "execution_count": null,
      "outputs": []
    },
    {
      "cell_type": "code",
      "metadata": {
        "id": "7QMmzrlY6umg",
        "colab": {
          "base_uri": "https://localhost:8080/"
        },
        "outputId": "e81d0764-612d-4bb1-a82a-f79b2e30c739"
      },
      "source": [
        "# ============================================================\n",
        "#         CODIGO BRUTO SIMPLIFICADO (Busca Sequencial)\n",
        "# ============================================================\n",
        "if __name__ == '__main__':\n",
        "   try:\n",
        "     distA, distB, tankT, Tank, leakT, consX = 0,0,0,0,0,1\n",
        "     # INPUT\n",
        "     while True:\n",
        "        event = []        \n",
        "        auxInput = input()\n",
        "        if (auxInput == '0 Fuel consumption 0'): break\n",
        "        event = auxInput.split()\n",
        "        \n",
        "        distB = int(event[0])\n",
        "        tankT+= (distB-distA)*(consX/100+leakT)\n",
        "        if (tankT > Tank): Tank = tankT\n",
        "        distA = distB\n",
        "\n",
        "        auxEvent = event[1]\n",
        "        if (auxEvent == 'Fuel'): consX=int(event[3])\n",
        "        elif (auxEvent == 'Goal'):\n",
        "             print(format(Tank,'.3f'))\n",
        "             distA, distB, tankT, Tank, leakT, consX = 0,0,0,0,0,1\n",
        "        elif (auxEvent == 'Leak'): leakT+= 1\n",
        "        elif (auxEvent == 'Gas'): tankT=0\n",
        "        elif (auxEvent == 'Mechanic'): leakT=0\n",
        "\n",
        "   except EOFError:\n",
        "     pass\n",
        "\n",
        "   finally:\n",
        "     exit(0)\n",
        "\n",
        "   exit(0)"
      ],
      "execution_count": null,
      "outputs": [
        {
          "output_type": "stream",
          "text": [
            "0 Fuel consumption 20\n",
            "10 Leak\n",
            "25 Leak\n",
            "25 Fuel consumption 30\n",
            "50 Gas station\n",
            "70 Mechanic\n",
            "100 Leak\n",
            "120 Goal\n",
            "81.000\n",
            "0 Fuel consumption 0\n"
          ],
          "name": "stdout"
        }
      ]
    },
    {
      "cell_type": "code",
      "metadata": {
        "id": "FKT2hUFBNQlQ"
      },
      "source": [
        "# ============================================================\n",
        "#                         CODIGO BRUTO\n",
        "# ============================================================\n",
        "if __name__ == '__main__':\n",
        "   try:\n",
        "     distA, distB, tankT, leakT, consX = 0,0,0,0,1\n",
        "\n",
        "     # INPUT\n",
        "     while True:\n",
        "        event = []        \n",
        "        auxInput = input()\n",
        "        if (auxInput == '0 Fuel consumption 0'): break\n",
        "        event = auxInput.split()\n",
        "        \n",
        "        distB = int(event[0])\n",
        "        auxEvent = event[1]\n",
        "\n",
        "        if (auxEvent == 'Fuel'):\n",
        "             tankT+= (distB-distA)*(consX/100+leakT)\n",
        "             consX=int(event[3])\n",
        "             distA = distB\n",
        "        elif (auxEvent == 'Goal'):\n",
        "             tankT+= (distB-distA)*(consX/100+leakT)\n",
        "             print(format(tankT,'.3f'))\n",
        "             distA, distB, tankT, leakT, consX = 0,0,0,0,1\n",
        "        elif (auxEvent == 'Leak'):\n",
        "             tankT+= (distB-distA)*(consX/100+leakT)\n",
        "             leakT+= 1\n",
        "             distA = distB\n",
        "        elif (auxEvent == 'Gas'):\n",
        "             tankT+= (distB-distA)*(consX/100+leakT)\n",
        "             tankT=0\n",
        "             distA = distB\n",
        "        elif (auxEvent == 'Mechanic'):          \n",
        "             tankT+= (distB-distA)*(consX/100+leakT)\n",
        "             leakT=0\n",
        "             distA = distB\n",
        "\n",
        "   except EOFError:\n",
        "     pass\n",
        "\n",
        "   finally:\n",
        "     exit(0)\n",
        "\n",
        "   exit(0)"
      ],
      "execution_count": null,
      "outputs": []
    },
    {
      "cell_type": "markdown",
      "metadata": {
        "id": "FA_owDvtrgoD"
      },
      "source": [
        "### TESTES"
      ]
    },
    {
      "cell_type": "code",
      "metadata": {
        "colab": {
          "base_uri": "https://localhost:8080/"
        },
        "id": "Bq2iVn0EQRck",
        "outputId": "590b02b9-4c6a-4075-b002-6aae156ba459"
      },
      "source": [
        "a=1e7 #1e7 #1e8 #1e9\n",
        "for i in range(50):\n",
        "  print(f'a{i}:',a)\n",
        "  a = a/2.0"
      ],
      "execution_count": null,
      "outputs": [
        {
          "output_type": "stream",
          "text": [
            "a0: 10000000.0\n",
            "a1: 5000000.0\n",
            "a2: 2500000.0\n",
            "a3: 1250000.0\n",
            "a4: 625000.0\n",
            "a5: 312500.0\n",
            "a6: 156250.0\n",
            "a7: 78125.0\n",
            "a8: 39062.5\n",
            "a9: 19531.25\n",
            "a10: 9765.625\n",
            "a11: 4882.8125\n",
            "a12: 2441.40625\n",
            "a13: 1220.703125\n",
            "a14: 610.3515625\n",
            "a15: 305.17578125\n",
            "a16: 152.587890625\n",
            "a17: 76.2939453125\n",
            "a18: 38.14697265625\n",
            "a19: 19.073486328125\n",
            "a20: 9.5367431640625\n",
            "a21: 4.76837158203125\n",
            "a22: 2.384185791015625\n",
            "a23: 1.1920928955078125\n",
            "a24: 0.5960464477539062\n",
            "a25: 0.2980232238769531\n",
            "a26: 0.14901161193847656\n",
            "a27: 0.07450580596923828\n",
            "a28: 0.03725290298461914\n",
            "a29: 0.01862645149230957\n",
            "a30: 0.009313225746154785\n",
            "a31: 0.004656612873077393\n",
            "a32: 0.0023283064365386963\n",
            "a33: 0.0011641532182693481\n",
            "a34: 0.0005820766091346741\n",
            "a35: 0.00029103830456733704\n",
            "a36: 0.00014551915228366852\n",
            "a37: 7.275957614183426e-05\n",
            "a38: 3.637978807091713e-05\n",
            "a39: 1.8189894035458565e-05\n",
            "a40: 9.094947017729282e-06\n",
            "a41: 4.547473508864641e-06\n",
            "a42: 2.2737367544323206e-06\n",
            "a43: 1.1368683772161603e-06\n",
            "a44: 5.684341886080801e-07\n",
            "a45: 2.842170943040401e-07\n",
            "a46: 1.4210854715202004e-07\n",
            "a47: 7.105427357601002e-08\n",
            "a48: 3.552713678800501e-08\n",
            "a49: 1.7763568394002505e-08\n"
          ],
          "name": "stdout"
        }
      ]
    },
    {
      "cell_type": "code",
      "metadata": {
        "id": "poJozJwvDi9X"
      },
      "source": [
        "distA, distB, tankT, leakT, consX = 0,0,0,0,1\n",
        "Tank = 0\n",
        "\n",
        "# INPUT\n",
        "for i in input:\n",
        "        event = []        \n",
        "        auxInput = i\n",
        "        if (auxInput == '0 Fuel consumption 0'): break\n",
        "        event = auxInput.split()\n",
        "        \n",
        "        distB = int(event[0])\n",
        "        tankT+= (distB-distA)*(consX/100+leakT)\n",
        "        if (tankT > Tank): Tank = tankT\n",
        "        distA = distB\n",
        "\n",
        "        auxEvent = event[1]\n",
        "        if (auxEvent == 'Fuel'): consX=int(event[3])\n",
        "        elif (auxEvent == 'Goal'):\n",
        "            print(format(Tank,'.3f'))\n",
        "            distA, distB, tankT, Tank, leakT, consX = 0,0,0,0,0,1\n",
        "        elif (auxEvent == 'Leak'): leakT+= 1\n",
        "        elif (auxEvent == 'Gas'): tankT=0\n",
        "        elif (auxEvent == 'Mechanic'): leakT=0"
      ],
      "execution_count": null,
      "outputs": []
    },
    {
      "cell_type": "markdown",
      "metadata": {
        "id": "Jdk7CrnZrj6f"
      },
      "source": [
        "### BASES DE TESTE"
      ]
    },
    {
      "cell_type": "code",
      "metadata": {
        "id": "HXe1aA66rmlj"
      },
      "source": [
        "input = ['0 Fuel consumption 10','100 Goal',\n",
        "         '0 Fuel consumption 5','100 Fuel consumption 30','200 Goal',\n",
        "         '0 Fuel consumption 20','10 Leak','25 Leak',\n",
        "         '25 Fuel consumption 30','50 Gas station','70 Mechanic','100 Leak','120 Goal',\n",
        "         '0 Fuel consumption 0']\n",
        "\n",
        "output = [10.000,35.000,81.000]"
      ],
      "execution_count": null,
      "outputs": []
    },
    {
      "cell_type": "code",
      "metadata": {
        "id": "0IaIB_d7BNXQ"
      },
      "source": [
        "input = ['0 Fuel consumption 55','10 Gas station','34 Mechanic','58 Leak','85 Gas station','104 Leak','128 Goal',\n",
        "         '0 Fuel consumption 4','13 Leak','14 Fuel consumption 48','35 Gas station','64 Gas station','81 Fuel consumption 1','95 Leak','99 Fuel consumption 87','108 Mechanic','129 Leak','133 Goal',\n",
        "         '0 Fuel consumption 68','5 Leak','13 Mechanic','21 Leak','36 Leak','59 Fuel consumption 13','63 Fuel consumption 61','85 Gas station','111 Mechanic','126 Goal',\n",
        "         '0 Fuel consumption 31','12 Gas station','41 Fuel consumption 25','59 Leak','88 Mechanic','89 Mechanic','103 Fuel consumption 43','125 Gas station','147 Gas station','176 Fuel consumption 85','176 Fuel consumption 63','184 Leak','208 Mechanic','227 Gas station','229 Mechanic','232 Gas station','261 Fuel consumption 43','278 Gas station','290 Goal','0 Fuel consumption 32','6 Fuel consumption 13','26 Mechanic','30 Fuel consumption 69','38 Mechanic','41 Leak','67 Fuel consumption 90','92 Goal','0 Fuel consumption 76','23 Leak','24 Mechanic','49 Leak','63 Mechanic','82 Leak','107 Leak','117 Fuel consumption 39','141 Gas station','167 Mechanic','196 Fuel consumption 25','201 Leak','212 Gas station','226 Leak','251 Gas station','254 Fuel consumption 24','259 Fuel consumption 70','284 Mechanic','295 Gas station','319 Goal','0 Fuel consumption 68','21 Leak','32 Mechanic','34 Leak','38 Gas station','42 Leak','53 Gas station','56 Leak','79 Fuel consumption 97','94 Goal','0 Fuel consumption 21','17 Gas station','23 Mechanic','48 Gas station','53 Fuel consumption 87','75 Leak','94 Fuel consumption 46','99 Leak','109 Gas station','133 Leak','157 Mechanic','178 Mechanic','198 Gas station','210 Mechanic','237 Fuel consumption 69','258 Fuel consumption 59','277 Fuel consumption 84','298 Goal','0 Fuel consumption 74','15 Mechanic','15 Mechanic','43 Fuel consumption 37','54 Fuel consumption 29','82 Leak','83 Gas station','85 Gas station','106 Gas station','115 Fuel consumption 49','119 Fuel consumption 93','146 Mechanic','171 Gas station','180 Mechanic','195 Fuel consumption 79','221 Fuel consumption 78','243 Mechanic','259 Gas station','278 Mechanic','285 Gas station','311 Leak','333 Leak','341 Leak','350 Gas station','354 Leak','355 Mechanic','378 Gas station','403 Gas station','427 Fuel consumption 83','449 Goal','0 Fuel consumption 92','18 Gas station','22 Gas station','45 Mechanic','54 Fuel consumption 46','77 Leak','102 Fuel consumption 80','120 Fuel consumption 96','143 Gas station','159 Fuel consumption 18','175 Leak','187 Mechanic','190 Leak','198 Fuel consumption 34','198 Mechanic','225 Mechanic','242 Leak','254 Fuel consumption 24','261 Fuel consumption 8','263 Leak','266 Mechanic','270 Mechanic','274 Gas station','282 Mechanic','287 Fuel consumption 23','297 Leak','322 Leak','323 Goal','0 Fuel consumption 15','24 Fuel consumption 3','50 Mechanic','61 Leak','81 Fuel consumption 80','83 Mechanic','88 Goal','0 Fuel consumption 18','15 Gas station','15 Mechanic','35 Mechanic','42 Leak','51 Fuel consumption 57','77 Fuel consumption 13','94 Gas station','100 Mechanic','113 Leak','128 Fuel consumption 36','130 Leak','146 Leak','164 Leak','191 Gas station','201 Gas station','214 Leak','224 Goal','0 Fuel consumption 61','17 Leak','30 Mechanic','49 Mechanic','67 Fuel consumption 21','74 Mechanic','74 Gas station','80 Fuel consumption 85','103 Goal','0 Fuel consumption 23','23 Fuel consumption 84','29 Mechanic','48 Gas station','57 Leak','60 Gas station','60 Gas station','71 Mechanic','79 Gas station','92 Mechanic','114 Gas station','121 Fuel consumption 29','145 Mechanic','150 Mechanic','170 Mechanic','173 Goal','0 Fuel consumption 35','3 Fuel consumption 38','19 Mechanic','46 Mechanic','68 Mechanic','86 Mechanic','101 Gas station','114 Mechanic','124 Fuel consumption 56','138 Gas station','141 Mechanic','142 Fuel consumption 95','157 Fuel consumption 56','158 Gas station','186 Leak','215 Mechanic','217 Gas station','217 Leak','231 Leak','245 Mechanic','247 Mechanic','274 Fuel consumption 37','302 Fuel consumption 27','322 Goal','0 Fuel consumption 92','19 Fuel consumption 98','36 Leak','39 Gas station','56 Leak','66 Gas station','87 Leak','115 Leak','136 Leak','165 Leak','165 Fuel consumption 38','166 Fuel consumption 94','184 Mechanic','193 Gas station','206 Fuel consumption 57','213 Mechanic','214 Gas station','238 Mechanic','263 Leak','279 Mechanic','303 Fuel consumption 7','327 Leak','330 Mechanic','336 Goal','0 Fuel consumption 1','5 Gas station','17 Mechanic','23 Mechanic','23 Mechanic','27 Mechanic','42 Mechanic','66 Mechanic','69 Fuel consumption 2','84 Mechanic','97 Mechanic','103 Gas station','110 Gas station','115 Leak','142 Leak','147 Fuel consumption 12','152 Gas station','180 Mechanic','181 Gas station','195 Gas station','196 Gas station','214 Mechanic','225 Gas station','226 Fuel consumption 37','238 Gas station','254 Fuel consumption 8','267 Goal','0 Fuel consumption 30','20 Gas station','33 Gas station','44 Leak','62 Gas station','63 Leak','77 Leak','91 Mechanic','102 Fuel consumption 75','103 Fuel consumption 72','116 Mechanic','118 Mechanic','131 Mechanic','140 Gas station','148 Gas station','156 Fuel consumption 13','170 Leak','186 Mechanic','212 Gas station','234 Mechanic','252 Leak','281 Mechanic','302 Mechanic','327 Leak','340 Goal','0 Fuel consumption 25','29 Leak','49 Fuel consumption 18','60 Mechanic','80 Leak','81 Fuel consumption 33','100 Mechanic','118 Fuel consumption 31','124 Mechanic','128 Gas station','145 Fuel consumption 44','153 Leak','160 Leak','172 Mechanic','193 Gas station','203 Goal','0 Fuel consumption 23','21 Mechanic','24 Leak','30 Gas station','39 Gas station','55 Fuel consumption 42','75 Mechanic','75 Leak','75 Mechanic','93 Leak','99 Fuel consumption 51','101 Gas station','112 Goal','0 Fuel consumption 54','21 Leak','39 Mechanic','63 Fuel consumption 91','66 Mechanic','67 Gas station','94 Leak','118 Leak','138 Leak','138 Goal','0 Fuel consumption 34','1 Mechanic','8 Mechanic','32 Leak','59 Leak','70 Gas station','93 Mechanic','115 Fuel consumption 88','132 Gas station','153 Gas station','163 Goal','0 Fuel consumption 88','10 Leak','29 Gas station','39 Gas station','58 Gas station','72 Leak','98 Fuel consumption 64','123 Mechanic','148 Gas station','175 Goal','0 Fuel consumption 82','7 Fuel consumption 63','13 Mechanic','34 Goal','0 Fuel consumption 67','22 Goal','0 Fuel consumption 13','7 Leak','16 Leak','39 Leak','40 Fuel consumption 71','63 Mechanic','65 Fuel consumption 42','89 Gas station','115 Mechanic','121 Gas station','137 Leak','150 Gas station','172 Leak','176 Goal','0 Fuel consumption 82','19 Leak','26 Leak','37 Fuel consumption 85','48 Gas station','49 Fuel consumption 43','77 Mechanic','105 Mechanic','130 Leak','159 Leak','175 Mechanic','194 Fuel consumption 31','218 Goal','0 Fuel consumption 47','5 Fuel consumption 80','10 Leak','27 Fuel consumption 9','53 Gas station','73 Leak','83 Fuel consumption 79','94 Leak','113 Fuel consumption 16','125 Gas station','146 Gas station','172 Leak','190 Mechanic','202 Gas station','208 Gas station','236 Fuel consumption 2','250 Mechanic','263 Gas station','279 Fuel consumption 63','308 Gas station','313 Leak','338 Mechanic','348 Fuel consumption 55','355 Leak','377 Fuel consumption 99','400 Gas station','416 Fuel consumption 95','437 Goal','0 Fuel consumption 59','20 Leak','33 Leak','49 Leak','67 Mechanic','72 Gas station','99 Leak','125 Fuel consumption 86','143 Mechanic','150 Fuel consumption 2','169 Leak','179 Gas station','203 Gas station','229 Leak','244 Gas station','250 Gas station','274 Leak','293 Fuel consumption 33','306 Goal','0 Fuel consumption 66','7 Fuel consumption 91','16 Mechanic','20 Leak','29 Gas station','44 Leak','68 Leak','78 Mechanic','87 Fuel consumption 66','108 Gas station','128 Mechanic','136 Mechanic','158 Leak','185 Leak','214 Gas station','218 Mechanic','235 Gas station','246 Leak','269 Gas station','298 Gas station','309 Mechanic','332 Goal','0 Fuel consumption 37','12 Leak','14 Leak','14 Gas station','21 Goal','0 Fuel consumption 87','4 Leak','33 Gas station','51 Mechanic','72 Leak','98 Fuel consumption 70','105 Gas station','124 Mechanic','153 Mechanic','174 Gas station','174 Mechanic','184 Fuel consumption 2','208 Goal','0 Fuel consumption 26','20 Mechanic','46 Mechanic','50 Leak','54 Goal','0 Fuel consumption 70','18 Mechanic','20 Fuel consumption 44','25 Fuel consumption 26','41 Leak','69 Mechanic','91 Mechanic','113 Fuel consumption 52','142 Gas station','143 Gas station','165 Gas station','165 Gas station','194 Fuel consumption 59','209 Fuel consumption 30','235 Gas station','261 Fuel consumption 88','289 Fuel consumption 42','306 Mechanic','311 Leak','324 Mechanic','327 Gas station','353 Goal','0 Fuel consumption 79','9 Mechanic','31 Gas station','36 Mechanic','51 Leak','69 Fuel consumption 81','82 Leak','107 Gas station','121 Fuel consumption 87','124 Gas station','152 Fuel consumption 72','165 Mechanic','167 Fuel consumption 20','190 Fuel consumption 58','203 Fuel consumption 39','213 Gas station','231 Fuel consumption 12','258 Fuel consumption 56','265 Mechanic','283 Gas station','286 Leak','307 Goal','0 Fuel consumption 29','15 Mechanic','25 Mechanic','53 Gas station','76 Fuel consumption 94','85 Leak','98 Gas station','106 Leak','134 Goal','0 Fuel consumption 43','12 Fuel consumption 31','31 Gas station','49 Fuel consumption 64','62 Mechanic','71 Leak','77 Mechanic','104 Mechanic','126 Leak','147 Gas station','147 Leak','163 Gas station','178 Goal','0 Fuel consumption 9','28 Gas station','47 Mechanic','58 Leak','70 Leak','83 Mechanic','94 Gas station','95 Leak','103 Gas station','126 Fuel consumption 52','127 Leak','141 Leak','151 Gas station','157 Gas station','168 Gas station','192 Mechanic','210 Fuel consumption 27','219 Leak','235 Gas station','248 Mechanic','252 Leak','274 Gas station','281 Leak','281 Leak','305 Fuel consumption 49','322 Fuel consumption 36','327 Fuel consumption 75','344 Goal','0 Fuel consumption 73','26 Leak','47 Gas station','49 Fuel consumption 59','72 Leak','99 Leak','106 Leak','114 Leak','140 Leak','164 Goal','0 Fuel consumption 99','21 Fuel consumption 18','33 Leak','35 Leak','37 Gas station','42 Fuel consumption 13','43 Fuel consumption 10','55 Fuel consumption 21','74 Fuel consumption 1','103 Gas station','117 Gas station','126 Leak','143 Fuel consumption 72','168 Fuel consumption 60','171 Mechanic','191 Fuel consumption 17','220 Leak','221 Fuel consumption 3','246 Gas station','249 Gas station','258 Mechanic','264 Leak','281 Leak','294 Goal','0 Fuel consumption 43','10 Mechanic','28 Fuel consumption 25','46 Mechanic','60 Gas station','83 Fuel consumption 56','87 Fuel consumption 12','108 Fuel consumption 98','119 Mechanic','129 Gas station','140 Fuel consumption 10','166 Gas station','170 Mechanic','175 Leak','199 Fuel consumption 69','222 Mechanic','240 Leak','260 Goal','0 Fuel consumption 25','1 Mechanic','12 Gas station','39 Mechanic','66 Gas station','87 Leak','106 Mechanic','113 Mechanic','120 Goal','0 Fuel consumption 53','21 Mechanic','22 Gas station','42 Leak','49 Leak','58 Mechanic','67 Goal','0 Fuel consumption 19','8 Mechanic','16 Leak','29 Leak','36 Gas station','39 Gas station','68 Gas station','87 Fuel consumption 56','97 Leak','114 Goal','0 Fuel consumption 30','27 Gas station','39 Gas station','41 Fuel consumption 96','66 Fuel consumption 24','90 Mechanic','113 Gas station','117 Fuel consumption 54','146 Fuel consumption 39','152 Gas station','166 Fuel consumption 37','195 Goal','0 Fuel consumption 92','17 Fuel consumption 21','34 Goal','0 Fuel consumption 48','2 Leak','30 Fuel consumption 74','33 Gas station','35 Goal','0 Fuel consumption 14','0 Leak','18 Leak','42 Leak','50 Leak','70 Mechanic','72 Leak','89 Mechanic','94 Gas station','110 Gas station','132 Fuel consumption 18','137 Mechanic','145 Gas station','159 Goal','0 Fuel consumption 75','10 Gas station','30 Mechanic','36 Leak','51 Mechanic','75 Fuel consumption 39','85 Fuel consumption 81','108 Fuel consumption 67','115 Mechanic','141 Gas station','141 Mechanic','141 Fuel consumption 8','144 Mechanic','160 Mechanic','170 Mechanic','178 Mechanic','205 Gas station','211 Fuel consumption 10','239 Gas station','265 Goal','0 Fuel consumption 49','21 Gas station','21 Fuel consumption 40','23 Mechanic','26 Fuel consumption 99','42 Fuel consumption 55','61 Leak','80 Leak','108 Mechanic','133 Gas station','156 Leak','182 Gas station','194 Gas station','213 Gas station','219 Fuel consumption 35','223 Mechanic','236 Gas station','242 Gas station','267 Leak','278 Fuel consumption 93','298 Mechanic','305 Gas station','329 Leak','339 Gas station','357 Mechanic','383 Fuel consumption 33','389 Fuel consumption 44','390 Fuel consumption 5','416 Goal','0 Fuel consumption 0']\n",
        "\n",
        "output = ['90.650','98.920','175.060','68.600','104.070','206.280','152.230','160.940','115.700','154.000','32.910','244.100','55.340','29.400','89.680','591.780','59.480','110.390','84.320','67.180','128.610','76.260','183.200','22.750','14.740','160.030','189.640','183.320','149.150','159.640','16.590','112.450','18.040','82.160','141.800','97.840','95.300','227.250','475.310','216.910','112.390','32.500','48.850','127.730','35.880','19.210','47.620','200.160','108.390','142.890']\n"
      ],
      "execution_count": null,
      "outputs": []
    }
  ]
}