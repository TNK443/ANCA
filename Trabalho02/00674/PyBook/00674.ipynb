{
  "nbformat": 4,
  "nbformat_minor": 0,
  "metadata": {
    "colab": {
      "name": "00674.ipynb",
      "provenance": [],
      "authorship_tag": "ABX9TyPhsqVLWflSSuH8qBxBocgK",
      "include_colab_link": true
    },
    "kernelspec": {
      "name": "python3",
      "display_name": "Python 3"
    },
    "language_info": {
      "name": "python"
    }
  },
  "cells": [
    {
      "cell_type": "markdown",
      "metadata": {
        "id": "view-in-github",
        "colab_type": "text"
      },
      "source": [
        "<a href=\"https://colab.research.google.com/github/TNK443/AnCA/blob/main/Trabalho02/00674/PyBook/00674.ipynb\" target=\"_parent\"><img src=\"https://colab.research.google.com/assets/colab-badge.svg\" alt=\"Open In Colab\"/></a>"
      ]
    },
    {
      "cell_type": "code",
      "metadata": {
        "id": "54uOOg3CgiSW"
      },
      "source": [
        "# ============================================================\n",
        "#                      00674 - COIN CHANGE\n",
        "# ============================================================\n",
        "# Suponha que existam 5 tipos de moedas: 50 cêntimos, 25 cêntimos, 10 cêntimos, 5 cêntimos e 1 cêntimo. \n",
        "# Queremos fazer alterações com essas moedas por uma determinada quantia de dinheiro.\n",
        "# \n",
        "# Por exemplo, se temos 11 centavos, podemos fazer alterações com uma moeda de 10 centavos e uma de 1 centcoin, duas moedas de 5 centavos e uma moeda de 1 cent, uma moeda de 5 cent e seis moedas de 1 cent, ou onze moedas de 1 centavo. Portanto, há quatro maneiras de fazer alterações por 11 centavos com as moedas acima. Observe que contamos que existe uma maneira de fazer a mudança para zero centavos.\n",
        "# \n",
        "# Escreva um programa para encontrar o número total de maneiras diferentes de fazer alterações para qualquer quantia de dinheiro em centavos. Seu programa deve ser capaz de lidar com até 7.489 centavos.\n",
        "# \n",
        "# ==========\n",
        "#   INPUT\n",
        "# ==========\n",
        "# O arquivo de entrada contém qualquer número de linhas, cada uma consistindo em um número correspondente à quantidade de dinheiro em centavos.\n",
        "# \n",
        "# ==========\n",
        "# OUTPUT\n",
        "# ==========\n",
        "# Para cada linha de entrada, imprima uma linha contendo o número de maneiras diferentes de fazer alterações com os 5 tipos de moedas acima.\n",
        "# \n",
        "# ============================================================"
      ],
      "execution_count": null,
      "outputs": []
    },
    {
      "cell_type": "code",
      "metadata": {
        "id": "jhTho76qhhj4"
      },
      "source": [
        "import sys\n",
        "\n",
        "N = 5\n",
        "coinType = [1, 5, 10, 25, 50]\n",
        "memo = []\n",
        "\n",
        "def dinamicP(coin, value): #top-down method\n",
        "    if value == 0:             return 1\n",
        "    if value < 0 or coin == 5: return 0\n",
        "    if memo[coin][value] == -1: \n",
        "       memo[coin][value] = dinamicP(coin+1, value) + dinamicP(coin, value - coinType[coin])\n",
        "    return memo[coin][value]\n",
        "\n",
        "if __name__ == '__main__':\n",
        "    for i in range(6):\n",
        "        memoCache = [-1] * 40\n",
        "        memo.append(memoCache)\n",
        "    # for n in sys.stdin: # read until EOF\n",
        "    n = int(input())\n",
        "    print(dinamicP(0, n))"
      ],
      "execution_count": null,
      "outputs": []
    },
    {
      "cell_type": "code",
      "metadata": {
        "id": "WI2hrVqhA2UP"
      },
      "source": [
        "coinType = [1, 5, 10, 25, 50]\n",
        "M = 5\n",
        "N = 7489\n",
        "\n",
        "ans = [0]*(N+5)\n",
        "\n",
        "def dinamicP(): #bottom-up method\n",
        "    ans[0] = 1;\n",
        "    \n",
        "    for i in range(M):\n",
        "        for j in range(N+1):\n",
        "            if (j>=coinType[i]):\n",
        "               ans[j] += ans[j-coinType[i]]\n",
        "def main():\n",
        "    dinamicP()\n",
        "    n = int(input())\n",
        "    for i in range(n):\n",
        "        print(ans[i])\n",
        "\n",
        "main()"
      ],
      "execution_count": null,
      "outputs": []
    }
  ]
}