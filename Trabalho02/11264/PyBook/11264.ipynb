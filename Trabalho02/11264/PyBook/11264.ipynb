{
  "nbformat": 4,
  "nbformat_minor": 0,
  "metadata": {
    "colab": {
      "name": "11264.ipynb",
      "provenance": [],
      "collapsed_sections": [],
      "authorship_tag": "ABX9TyODA8tIk5ju06nAW501pks2",
      "include_colab_link": true
    },
    "kernelspec": {
      "name": "python3",
      "display_name": "Python 3"
    },
    "language_info": {
      "name": "python"
    }
  },
  "cells": [
    {
      "cell_type": "markdown",
      "metadata": {
        "id": "view-in-github",
        "colab_type": "text"
      },
      "source": [
        "<a href=\"https://colab.research.google.com/github/TNK443/AnCA/blob/main/Trabalho02/11264/PyBook/11264.ipynb\" target=\"_parent\"><img src=\"https://colab.research.google.com/assets/colab-badge.svg\" alt=\"Open In Colab\"/></a>"
      ]
    },
    {
      "cell_type": "code",
      "metadata": {
        "id": "Qv5nIbb9LwQ3"
      },
      "source": [
        "# ============================================================\n",
        "#                      11264 - COIN COLLECTOR\n",
        "# ============================================================\n",
        "# Nosso querido Sultão está visitando um país onde existem diferentes tipos de moedas.\n",
        "# Ele deseja coletar o maior número possível de moedas diferentes.\n",
        "# Agora, se ele quiser sacar uma quantia X de dinheiro de um banco,\n",
        "# o banco lhe dará esse dinheiro usando o seguinte algoritmo.\n",
        "# \n",
        "#    withdraw(X) {\n",
        "#       if (X == 0) return;\n",
        "#       Seja Y a moeda de maior valor que não exceda X.\n",
        "#       Dê ao cliente uma moeda com o valor Y.\n",
        "#       withdraw(X-Y);\n",
        "#    }\n",
        "# \n",
        "# Agora Sultan pode sacar qualquer quantia de dinheiro do banco.\n",
        "# Ele deve maximizar o número de moedas diferentes que pode coletar em uma única retirada.\n",
        "# \n",
        "# ==========\n",
        "#   INPUT\n",
        "# ==========\n",
        "# A primeira linha da entrada contém T o número de casos de teste.\n",
        "# Cada um dos casos de teste começa com n (1 <= n <= 1000), o número de diferentes tipos de moeda.\n",
        "# A próxima linha contém n inteiros C1 < C2 < ... < Cn o valor de cada tipo de moeda.\n",
        "# C1 < C2 < C3 < ... < Cn < 1.000.000.000.\n",
        "# C1 é igual a 1.\n",
        "# \n",
        "# ==========\n",
        "# OUTPUT\n",
        "# ==========\n",
        "# Para cada caso de teste, imprima uma linha indicando o número máximo de moedas que Sultan pode coletar em uma única retirada.\n",
        "# Ele pode retirar uma quantidade infinita de dinheiro do banco.\n",
        "# \n",
        "# ============================================================"
      ],
      "execution_count": null,
      "outputs": []
    },
    {
      "cell_type": "code",
      "metadata": {
        "id": "upZBf4-7M2s-"
      },
      "source": [
        "if __name__ == '__main__':\n",
        "    T = int(input())\n",
        "\n",
        "    for _ in range(T):\n",
        "        n = int(input())\n",
        "        valores = input().split()\n",
        "\n",
        "        sum =int(valores[0])\n",
        "\n",
        "        if (n > 1):\n",
        "              nMoedas = 2 # normalmente começamos com pelo menos 2 moedas \n",
        "        else: nMoedas = 1 #caso de teste para 1 única moeda\n",
        "        \n",
        "        # Para obter o maior números de moedas começamos com as moedas de valores menores.\n",
        "        for i in range(n-1):\n",
        "            if  (sum < int(valores[i])) and (sum + int(valores[i]) < int(valores[i + 1])):\n",
        "                sum += int(valores[i]);\n",
        "                nMoedas+=1\n",
        "        print(nMoedas, end='\\n')\n",
        "    exit(0)"
      ],
      "execution_count": null,
      "outputs": []
    },
    {
      "cell_type": "code",
      "metadata": {
        "id": "z_Xfoxtfedh7"
      },
      "source": [
        "# Foi utilizado a técnica Gulosa para este problema.\n",
        "# Com o vetor ordenado primeiramente foi realizado o teste de tras para frente (32-16, 16-8, 8-4,...2-1,1-1 = 6 moedas), os primeiros testes deram Ok.\n",
        "# Mas quando pegamos alguns teste do uDebug percebemos que essa abordagem não funciona.\n",
        "# Não funciona pois essa Abordagem Gulosa não considera o número máximo de moeda que o Sultão pode ter, pois ele vindo de trás para frente ele não garante que vai ter o máximo de moedas mas garante que vai ter as mais altas (valores maiores) moedas.\n",
        "# Sendo assim a abordagem foi mudada de tras pra frente para inicio/fim, onde assim conseguimos garantir que teremos mais moedas considerando primeiramente as moedas menores.\n",
        "\n",
        "# Onde a soma das moedas(X) + a moeda(i) deve ser menor que o valor da moeda(i+1), pois se tivermos (1 + 3) + (6) = 10 [sum+moeda(i)] e a proximo moeda for 8, quando aplicamos withdraw(X) para X=10 o banco retornaria as moedas 8|1|1.bit_length\n",
        "# Sendo assim pulamos essa moeda e seguimos para a próxima.\n",
        "\n",
        "# Para a entrada [1 3 6 8 15 20]\n",
        "# A forma \"Gulosa\" de considerarmos seria: 1|3|8|20\n",
        "\n",
        "# A abordagem Gulosa  neste problema tem complexidade O(N) na notação big-O."
      ],
      "execution_count": null,
      "outputs": []
    }
  ]
}